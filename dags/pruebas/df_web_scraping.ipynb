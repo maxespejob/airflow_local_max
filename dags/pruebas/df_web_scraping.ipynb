{
 "cells": [
  {
   "cell_type": "code",
   "execution_count": 6,
   "metadata": {},
   "outputs": [
    {
     "name": "stdout",
     "output_type": "stream",
     "text": [
      "Datos extraídos y guardados en '/home/host/airflow_prueba/analitica/pruebitas_git/monthly_series_averages.csv'.\n"
     ]
    }
   ],
   "source": [
    "from selenium import webdriver\n",
    "from selenium.webdriver.chrome.service import Service\n",
    "from bs4 import BeautifulSoup\n",
    "import pandas as pd\n",
    "\n",
    "# Configurar Selenium (asegúrate de tener ChromeDriver instalado)\n",
    "service = Service(\"/usr/bin/chromedriver\")  # Cambia esta ruta a la ubicación de tu chromedriver\n",
    "driver = webdriver.Chrome(service=service)\n",
    "\n",
    "# URL de la página\n",
    "url = \"https://www.bnr.ro/en/23793-exchange-rates-monthly-quarterly-and-annual-averages\"\n",
    "driver.get(url)\n",
    "\n",
    "# Esperar a que la página cargue (puedes ajustar según sea necesario)\n",
    "driver.implicitly_wait(10)\n",
    "\n",
    "# Obtener el HTML de la página después de cargar\n",
    "html = driver.page_source\n",
    "driver.quit()\n",
    "\n",
    "# Parsear el contenido HTML con Beautiful Soup\n",
    "soup = BeautifulSoup(html, 'html.parser')\n",
    "\n",
    "# Buscar la tabla específica usando su clase\n",
    "table = soup.find('table', class_=\"table-color max-h table\")\n",
    "\n",
    "# Extraer los encabezados (que están todos en la fila <tr> principal con <th>)\n",
    "headers = [header.text.strip() for header in table.find('tr').find_all('th')]\n",
    "\n",
    "# Extraer las filas de datos\n",
    "rows = []\n",
    "for row in table.find_all('tr')[1:]:  # Excluir la primera fila que contiene los encabezados\n",
    "    cells = row.find_all(['th', 'td'])  # Incluye el <th> del mes y los <td> de las celdas\n",
    "    row_data = [cell.text.strip() for cell in cells]\n",
    "    rows.append(row_data)\n",
    "\n",
    "# Crear un DataFrame con los encabezados y las filas extraídas\n",
    "df = pd.DataFrame(rows, columns=headers)\n",
    "\n",
    "# Guardar los datos en un archivo CSV con el formato esperado\n",
    "df.to_csv('/home/host/airflow_prueba/analitica/pruebitas_git/monthly_series_averages_adsaddsadas.csv', index=False)\n",
    "\n",
    "print(\"Datos extraídos y guardados en '/home/host/airflow_prueba/analitica/pruebitas_git/monthly_series_averages.csv'.\")\n"
   ]
  },
  {
   "cell_type": "code",
   "execution_count": 7,
   "metadata": {},
   "outputs": [
    {
     "data": {
      "text/html": [
       "<div>\n",
       "<style scoped>\n",
       "    .dataframe tbody tr th:only-of-type {\n",
       "        vertical-align: middle;\n",
       "    }\n",
       "\n",
       "    .dataframe tbody tr th {\n",
       "        vertical-align: top;\n",
       "    }\n",
       "\n",
       "    .dataframe thead th {\n",
       "        text-align: right;\n",
       "    }\n",
       "</style>\n",
       "<table border=\"1\" class=\"dataframe\">\n",
       "  <thead>\n",
       "    <tr style=\"text-align: right;\">\n",
       "      <th></th>\n",
       "      <th>Month</th>\n",
       "      <th>EUR</th>\n",
       "      <th>USD</th>\n",
       "    </tr>\n",
       "  </thead>\n",
       "  <tbody>\n",
       "    <tr>\n",
       "      <th>0</th>\n",
       "      <td>11/2024</td>\n",
       "      <td>4.9760</td>\n",
       "      <td>4.6834</td>\n",
       "    </tr>\n",
       "  </tbody>\n",
       "</table>\n",
       "</div>"
      ],
      "text/plain": [
       "     Month     EUR     USD\n",
       "0  11/2024  4.9760  4.6834"
      ]
     },
     "execution_count": 7,
     "metadata": {},
     "output_type": "execute_result"
    }
   ],
   "source": [
    "df[[\"Month\",\"EUR\",\"USD\"]].head(1)"
   ]
  }
 ],
 "metadata": {
  "kernelspec": {
   "display_name": "usr",
   "language": "python",
   "name": "python3"
  },
  "language_info": {
   "codemirror_mode": {
    "name": "ipython",
    "version": 3
   },
   "file_extension": ".py",
   "mimetype": "text/x-python",
   "name": "python",
   "nbconvert_exporter": "python",
   "pygments_lexer": "ipython3",
   "version": "3.12.3"
  }
 },
 "nbformat": 4,
 "nbformat_minor": 2
}
