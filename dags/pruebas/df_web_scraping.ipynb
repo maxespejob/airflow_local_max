{
 "cells": [
  {
   "cell_type": "code",
   "execution_count": 21,
   "metadata": {},
   "outputs": [],
   "source": [
    "from selenium import webdriver\n",
    "from selenium.webdriver.chrome.service import Service\n",
    "from bs4 import BeautifulSoup\n",
    "import pandas as pd\n",
    "import time\n",
    "def web_scraping_bnr(url:str,service:str) -> pd.DataFrame:\n",
    "    # Configurar Selenium (asegúrate de tener ChromeDriver instalado)\n",
    "    service = Service(service)  # Cambia esta ruta a la ubicación de tu chromedriver\n",
    "    driver = webdriver.Chrome(service=service)\n",
    "\n",
    "    # URL de la página\n",
    "    url_bnr = url\n",
    "    driver.get(url_bnr)\n",
    "    time.sleep(15)\n",
    "    # Esperar a que la página cargue (puedes ajustar según sea necesario)\n",
    "    driver.implicitly_wait(10)\n",
    "\n",
    "    # Obtener el HTML de la página después de cargar\n",
    "    html = driver.page_source\n",
    "    driver.quit()\n",
    "\n",
    "    # Parsear el contenido HTML con Beautiful Soup\n",
    "    soup = BeautifulSoup(html, 'html.parser')\n",
    "\n",
    "    # Buscar la tabla específica usando su clase\n",
    "    table = soup.find('table', class_=\"table-color max-h table\")\n",
    "\n",
    "    # Extraer los encabezados (que están todos en la fila <tr> principal con <th>)\n",
    "    headers = [header.text.strip() for header in table.find('tr').find_all('th')]\n",
    "\n",
    "    # Extraer las filas de datos\n",
    "    rows = []\n",
    "    for row in table.find_all('tr')[1:]:  # Excluir la primera fila que contiene los encabezados\n",
    "        cells = row.find_all(['th', 'td'])  # Incluye el <th> del mes y los <td> de las celdas\n",
    "        row_data = [cell.text.strip() for cell in cells]\n",
    "        rows.append(row_data)\n",
    "\n",
    "    # Crear un DataFrame con los encabezados y las filas extraídas\n",
    "    df = pd.DataFrame(rows, columns=headers)\n",
    "\n",
    "    # Guardar los datos en un archivo CSV con el formato esperado\n",
    "    df.to_csv('/home/host/airflow_prueba/analitica/pruebitas_git/monthly_series_averages.csv', index=False)\n",
    "    print(\"Datos extraídos y guardados en '/home/host/airflow_prueba/analitica/pruebitas_git/monthly_series_averages.csv'.\")\n",
    "    return df\n"
   ]
  },
  {
   "cell_type": "code",
   "execution_count": 24,
   "metadata": {},
   "outputs": [
    {
     "ename": "KeyboardInterrupt",
     "evalue": "",
     "output_type": "error",
     "traceback": [
      "\u001b[0;31m---------------------------------------------------------------------------\u001b[0m",
      "\u001b[0;31mKeyboardInterrupt\u001b[0m                         Traceback (most recent call last)",
      "Cell \u001b[0;32mIn[24], line 2\u001b[0m\n\u001b[1;32m      1\u001b[0m \u001b[38;5;66;03m#df = web_scraping_bnr(\"https://www.bnr.ro/en/23793-exchange-rates-monthly-quarterly-and-annual-averages\",\"/usr/bin/chromedriver\")\u001b[39;00m\n\u001b[0;32m----> 2\u001b[0m df \u001b[38;5;241m=\u001b[39m \u001b[43mweb_scraping_bnr\u001b[49m\u001b[43m(\u001b[49m\u001b[38;5;124;43m\"\u001b[39;49m\u001b[38;5;124;43mhttps://www.bnr.ro/en/23793-exchange-rates-monthly-quarterly-and-annual-averages\u001b[39;49m\u001b[38;5;124;43m\"\u001b[39;49m\u001b[43m,\u001b[49m\u001b[38;5;124;43m\"\u001b[39;49m\u001b[38;5;124;43m/usr/bin/chromedriver\u001b[39;49m\u001b[38;5;124;43m\"\u001b[39;49m\u001b[43m)\u001b[49m\n\u001b[1;32m      3\u001b[0m df[[\u001b[38;5;124m\"\u001b[39m\u001b[38;5;124mMonth\u001b[39m\u001b[38;5;124m\"\u001b[39m,\u001b[38;5;124m\"\u001b[39m\u001b[38;5;124mEUR\u001b[39m\u001b[38;5;124m\"\u001b[39m,\u001b[38;5;124m\"\u001b[39m\u001b[38;5;124mUSD\u001b[39m\u001b[38;5;124m\"\u001b[39m]]\u001b[38;5;241m.\u001b[39mhead(\u001b[38;5;241m1\u001b[39m)\n",
      "Cell \u001b[0;32mIn[21], line 14\u001b[0m, in \u001b[0;36mweb_scraping_bnr\u001b[0;34m(url, service)\u001b[0m\n\u001b[1;32m     12\u001b[0m url_bnr \u001b[38;5;241m=\u001b[39m url\n\u001b[1;32m     13\u001b[0m driver\u001b[38;5;241m.\u001b[39mget(url_bnr)\n\u001b[0;32m---> 14\u001b[0m \u001b[43mtime\u001b[49m\u001b[38;5;241;43m.\u001b[39;49m\u001b[43msleep\u001b[49m\u001b[43m(\u001b[49m\u001b[38;5;241;43m15\u001b[39;49m\u001b[43m)\u001b[49m\n\u001b[1;32m     15\u001b[0m \u001b[38;5;66;03m# Esperar a que la página cargue (puedes ajustar según sea necesario)\u001b[39;00m\n\u001b[1;32m     16\u001b[0m driver\u001b[38;5;241m.\u001b[39mimplicitly_wait(\u001b[38;5;241m10\u001b[39m)\n",
      "\u001b[0;31mKeyboardInterrupt\u001b[0m: "
     ]
    }
   ],
   "source": [
    "#df = web_scraping_bnr(\"https://www.bnr.ro/en/23793-exchange-rates-monthly-quarterly-and-annual-averages\",\"/usr/bin/chromedriver\")\n",
    "df = web_scraping_bnr(\"https://www.bnr.ro/en/23793-exchange-rates-monthly-quarterly-and-annual-averages\",\"/usr/bin/chromedriver\")\n",
    "df[[\"Month\",\"EUR\",\"USD\"]].head(1)"
   ]
  },
  {
   "cell_type": "code",
   "execution_count": 82,
   "metadata": {},
   "outputs": [
    {
     "name": "stdout",
     "output_type": "stream",
     "text": [
      "[['Month', 'AUD', 'BGN', 'CAD', 'CHF', 'CZK', 'DKK', 'EGP', 'EUR', 'GBP', '100 HUF', '100 JPY', 'MDL', 'NOK', 'PLN', 'RUB', 'SEK', 'TRY', 'USD', 'ZAR', 'BRL', 'CNY', 'INR', '100 KRW', 'MXN', 'NZD', 'RSD', 'UAH', 'AED', 'THB', 'HKD', 'ILS', '100 IDR', 'PHP', '100 ISK', 'MYR', 'SGD', 'XAU', 'XDR'], ['11/2024', '3.0587', '2.5442', '3.3512', '5.3189', '0.1966', '0.6672', '0.0948', '4.9760', '5.9666', '1.2148', '3.0489', '0.2589', '0.4237', '1.1475', '0.0464', '0.4296', '0.1359', '4.6834', '0.2612', '0.8084', '0.6496', '0.0555', '0.3357', '0.2304', '2.7693', '0.0425', '0.1131', '1.2751', '0.1360', '0.6020', '1.2596', '0.0295', '0.0797', '3.3926', '1.0560', '3.5031', '399.8943', '6.1744']]\n"
     ]
    }
   ],
   "source": [
    "import requests\n",
    "from bs4 import BeautifulSoup\n",
    "\n",
    "def web_scraping_bnr():\n",
    "    # URL del endpoint\n",
    "    url = 'https://www.bnr.ro//blocks'\n",
    "\n",
    "    # Payload encontrado en Network -> Payload\n",
    "    payload = {\n",
    "        'bid': '26412',\n",
    "        'currentSlug': '23793-exchange-rates-monthly-quarterly-and-annual-averages',\n",
    "        'cat_id': ''\n",
    "    }\n",
    "\n",
    "    # Cabeceras HTTP necesarias\n",
    "    headers = {\n",
    "        'Content-Type': 'application/x-www-form-urlencoded; charset=UTF-8',\n",
    "        'X-Requested-With': 'XMLHttpRequest',\n",
    "        'Referer': 'https://www.bnr.ro/en/23793-exchange-rates-monthly-quarterly-and-annual-averages',\n",
    "        'User-Agent': 'Mozilla/5.0 (Windows NT 10.0; Win64; x64) AppleWebKit/537.36 (KHTML, like Gecko) Chrome/131.0.0.0 Safari/537.36'\n",
    "    }\n",
    "\n",
    "    # Hacer la petición POST\n",
    "    response = requests.post(url, data=payload, headers=headers)\n",
    "\n",
    "    if response.status_code == 200:\n",
    "        html = response.text\n",
    "        soup = BeautifulSoup(html, 'html.parser')\n",
    "\n",
    "        # Encontrar la tabla\n",
    "        table = soup.find('table')\n",
    "        if table:\n",
    "            # Extraer encabezados\n",
    "            headers = [h.get_text(strip=True) for h in table.find('thead').find_all('th')]\n",
    "\n",
    "            # Extraer filas\n",
    "            rows_data = []\n",
    "            for row in table.find('tbody').find_all('tr'):\n",
    "                # La primera celda es un <th> con la fecha\n",
    "                month = row.find('th').get_text(strip=True)\n",
    "                # El resto son <td>\n",
    "                cells = row.find_all('td')\n",
    "                data = [cell.get_text(strip=True) for cell in cells]\n",
    "                # Combinar\n",
    "                row_values = [month] + data\n",
    "                rows_data.append(row_values)\n",
    "\n",
    "            # Combinar cabeceras y filas en una lista\n",
    "            full_table = [headers] + rows_data\n",
    "\n",
    "            # Retornar la lista completa\n",
    "            return full_table[:2]\n",
    "        else:\n",
    "            return \"No se encontró la tabla en la respuesta.\"\n",
    "    else:\n",
    "        return f\"La petición falló con el código de estado {response.status_code}.\"\n"
   ]
  },
  {
   "cell_type": "code",
   "execution_count": 88,
   "metadata": {},
   "outputs": [
    {
     "data": {
      "text/html": [
       "<div>\n",
       "<style scoped>\n",
       "    .dataframe tbody tr th:only-of-type {\n",
       "        vertical-align: middle;\n",
       "    }\n",
       "\n",
       "    .dataframe tbody tr th {\n",
       "        vertical-align: top;\n",
       "    }\n",
       "\n",
       "    .dataframe thead th {\n",
       "        text-align: right;\n",
       "    }\n",
       "</style>\n",
       "<table border=\"1\" class=\"dataframe\">\n",
       "  <thead>\n",
       "    <tr style=\"text-align: right;\">\n",
       "      <th></th>\n",
       "      <th>Month</th>\n",
       "      <th>AUD</th>\n",
       "      <th>BGN</th>\n",
       "      <th>CAD</th>\n",
       "      <th>CHF</th>\n",
       "      <th>CZK</th>\n",
       "      <th>DKK</th>\n",
       "      <th>EGP</th>\n",
       "      <th>EUR</th>\n",
       "      <th>GBP</th>\n",
       "      <th>...</th>\n",
       "      <th>THB</th>\n",
       "      <th>HKD</th>\n",
       "      <th>ILS</th>\n",
       "      <th>100 IDR</th>\n",
       "      <th>PHP</th>\n",
       "      <th>100 ISK</th>\n",
       "      <th>MYR</th>\n",
       "      <th>SGD</th>\n",
       "      <th>XAU</th>\n",
       "      <th>XDR</th>\n",
       "    </tr>\n",
       "  </thead>\n",
       "  <tbody>\n",
       "    <tr>\n",
       "      <th>0</th>\n",
       "      <td>11/2024</td>\n",
       "      <td>3.0587</td>\n",
       "      <td>2.5442</td>\n",
       "      <td>3.3512</td>\n",
       "      <td>5.3189</td>\n",
       "      <td>0.1966</td>\n",
       "      <td>0.6672</td>\n",
       "      <td>0.0948</td>\n",
       "      <td>4.9760</td>\n",
       "      <td>5.9666</td>\n",
       "      <td>...</td>\n",
       "      <td>0.1360</td>\n",
       "      <td>0.6020</td>\n",
       "      <td>1.2596</td>\n",
       "      <td>0.0295</td>\n",
       "      <td>0.0797</td>\n",
       "      <td>3.3926</td>\n",
       "      <td>1.0560</td>\n",
       "      <td>3.5031</td>\n",
       "      <td>399.8943</td>\n",
       "      <td>6.1744</td>\n",
       "    </tr>\n",
       "    <tr>\n",
       "      <th>1</th>\n",
       "      <td>10/2024</td>\n",
       "      <td>3.0613</td>\n",
       "      <td>2.5435</td>\n",
       "      <td>3.3180</td>\n",
       "      <td>5.3004</td>\n",
       "      <td>0.1967</td>\n",
       "      <td>0.6669</td>\n",
       "      <td>0.0939</td>\n",
       "      <td>4.9748</td>\n",
       "      <td>5.9564</td>\n",
       "      <td>...</td>\n",
       "      <td>0.1366</td>\n",
       "      <td>0.5870</td>\n",
       "      <td>1.2129</td>\n",
       "      <td>0.0294</td>\n",
       "      <td>0.0794</td>\n",
       "      <td>3.3356</td>\n",
       "      <td>1.0611</td>\n",
       "      <td>3.4828</td>\n",
       "      <td>394.5996</td>\n",
       "      <td>6.0963</td>\n",
       "    </tr>\n",
       "  </tbody>\n",
       "</table>\n",
       "<p>2 rows × 39 columns</p>\n",
       "</div>"
      ],
      "text/plain": [
       "     Month     AUD     BGN     CAD     CHF     CZK     DKK     EGP     EUR  \\\n",
       "0  11/2024  3.0587  2.5442  3.3512  5.3189  0.1966  0.6672  0.0948  4.9760   \n",
       "1  10/2024  3.0613  2.5435  3.3180  5.3004  0.1967  0.6669  0.0939  4.9748   \n",
       "\n",
       "      GBP  ...     THB     HKD     ILS 100 IDR     PHP 100 ISK     MYR  \\\n",
       "0  5.9666  ...  0.1360  0.6020  1.2596  0.0295  0.0797  3.3926  1.0560   \n",
       "1  5.9564  ...  0.1366  0.5870  1.2129  0.0294  0.0794  3.3356  1.0611   \n",
       "\n",
       "      SGD       XAU     XDR  \n",
       "0  3.5031  399.8943  6.1744  \n",
       "1  3.4828  394.5996  6.0963  \n",
       "\n",
       "[2 rows x 39 columns]"
      ]
     },
     "execution_count": 88,
     "metadata": {},
     "output_type": "execute_result"
    }
   ],
   "source": [
    "xd = pd.DataFrame(full_table[1:3], columns = full_table[0])\n",
    "xd"
   ]
  },
  {
   "cell_type": "code",
   "execution_count": 77,
   "metadata": {},
   "outputs": [
    {
     "name": "stdout",
     "output_type": "stream",
     "text": [
      "39\n",
      "39\n",
      "39\n",
      "39\n",
      "39\n",
      "39\n",
      "39\n",
      "39\n",
      "39\n",
      "39\n",
      "39\n",
      "39\n",
      "39\n",
      "None\n"
     ]
    },
    {
     "data": {
      "text/plain": [
       "[['Month', 'EUR', 'USD']]"
      ]
     },
     "execution_count": 77,
     "metadata": {},
     "output_type": "execute_result"
    }
   ],
   "source": [
    "web_scraping_bnr()"
   ]
  },
  {
   "cell_type": "code",
   "execution_count": 11,
   "metadata": {},
   "outputs": [
    {
     "ename": "TypeError",
     "evalue": "unsupported operand type(s) for +: 'int' and 'str'",
     "output_type": "error",
     "traceback": [
      "\u001b[0;31m---------------------------------------------------------------------------\u001b[0m",
      "\u001b[0;31mTypeError\u001b[0m                                 Traceback (most recent call last)",
      "Cell \u001b[0;32mIn[11], line 3\u001b[0m\n\u001b[1;32m      1\u001b[0m \u001b[38;5;28;01mfrom\u001b[39;00m \u001b[38;5;21;01mdatetime\u001b[39;00m \u001b[38;5;28;01mimport\u001b[39;00m datetime, timedelta\n\u001b[0;32m----> 3\u001b[0m XD \u001b[38;5;241m=\u001b[39m \u001b[43mdatetime\u001b[49m\u001b[38;5;241;43m.\u001b[39;49m\u001b[43mstrptime\u001b[49m\u001b[43m(\u001b[49m\u001b[38;5;124;43m\"\u001b[39;49m\u001b[38;5;124;43m2024-10-11\u001b[39;49m\u001b[38;5;124;43m\"\u001b[39;49m\u001b[43m,\u001b[49m\u001b[43m \u001b[49m\u001b[38;5;124;43m\"\u001b[39;49m\u001b[38;5;124;43m%\u001b[39;49m\u001b[38;5;124;43mY-\u001b[39;49m\u001b[38;5;124;43m%\u001b[39;49m\u001b[38;5;124;43mm-\u001b[39;49m\u001b[38;5;132;43;01m%d\u001b[39;49;00m\u001b[38;5;124;43m\"\u001b[39;49m\u001b[43m)\u001b[49m\u001b[38;5;241;43m.\u001b[39;49m\u001b[43myear\u001b[49m\u001b[43m \u001b[49m\u001b[38;5;241;43m+\u001b[39;49m\u001b[38;5;124;43m\"\u001b[39;49m\u001b[38;5;124;43m-\u001b[39;49m\u001b[38;5;124;43m\"\u001b[39;49m\u001b[38;5;241m+\u001b[39mdatetime\u001b[38;5;241m.\u001b[39mstrptime(\u001b[38;5;124m\"\u001b[39m\u001b[38;5;124m2024-10-11\u001b[39m\u001b[38;5;124m\"\u001b[39m, \u001b[38;5;124m\"\u001b[39m\u001b[38;5;124m%\u001b[39m\u001b[38;5;124mY-\u001b[39m\u001b[38;5;124m%\u001b[39m\u001b[38;5;124mm-\u001b[39m\u001b[38;5;132;01m%d\u001b[39;00m\u001b[38;5;124m\"\u001b[39m)\u001b[38;5;241m.\u001b[39mmonth\n\u001b[1;32m      4\u001b[0m \u001b[38;5;28mprint\u001b[39m(\u001b[38;5;28mtype\u001b[39m(XD),XD)\n",
      "\u001b[0;31mTypeError\u001b[0m: unsupported operand type(s) for +: 'int' and 'str'"
     ]
    }
   ],
   "source": [
    "from datetime import datetime, timedelta\n",
    "\n",
    "XD = datetime.strptime(\"2024-10-11\", \"%Y-%m-%d\").year,datetime.strptime(\"2024-10-11\", \"%Y-%m-%d\").month\n",
    "print(type(XD),XD)"
   ]
  },
  {
   "cell_type": "code",
   "execution_count": 12,
   "metadata": {},
   "outputs": [],
   "source": [
    "import requests\n",
    "from bs4 import BeautifulSoup\n",
    "\n",
    "def web_scraping_bnr() -> any:\n",
    "    # URL del endpoint\n",
    "    url = 'https://www.bnr.ro//blocks'\n",
    "\n",
    "    # Payload encontrado en Network -> Payload\n",
    "    payload = {\n",
    "        'bid': '26412',\n",
    "        'currentSlug': '23793-exchange-rates-monthly-quarterly-and-annual-averages',\n",
    "        'cat_id': ''\n",
    "    }\n",
    "\n",
    "    # Cabeceras HTTP necesarias\n",
    "    headers = {\n",
    "        'Content-Type': 'application/x-www-form-urlencoded; charset=UTF-8',\n",
    "        'X-Requested-With': 'XMLHttpRequest',\n",
    "        'Referer': 'https://www.bnr.ro/en/23793-exchange-rates-monthly-quarterly-and-annual-averages',\n",
    "        'User-Agent': 'Mozilla/5.0 (Windows NT 10.0; Win64; x64) AppleWebKit/537.36 (KHTML, like Gecko) Chrome/131.0.0.0 Safari/537.36'\n",
    "    }\n",
    "\n",
    "    # Hacer la petición POST\n",
    "    response = requests.post(url, data=payload, headers=headers)\n",
    "\n",
    "    if response.status_code == 200:\n",
    "        html = response.text\n",
    "        soup = BeautifulSoup(html, 'html.parser')\n",
    "\n",
    "        # Encontrar la tabla\n",
    "        table = soup.find('table')\n",
    "        if table:\n",
    "            # Extraer encabezados\n",
    "            headers = [h.get_text(strip=True) for h in table.find('thead').find_all('th')]\n",
    "\n",
    "            # Extraer filas\n",
    "            rows_data = []\n",
    "            for row in table.find('tbody').find_all('tr'):\n",
    "                # La primera celda es un <th> con la fecha\n",
    "                month = row.find('th').get_text(strip=True)\n",
    "                # El resto son <td>\n",
    "                cells = row.find_all('td')\n",
    "                data = [cell.get_text(strip=True) for cell in cells]\n",
    "                # Combinar\n",
    "                row_values = [month] + data\n",
    "                rows_data.append(row_values)\n",
    "\n",
    "            # Combinar cabeceras y filas en una lista\n",
    "            full_table = [headers] + rows_data\n",
    "\n",
    "            # Retornar la lista completa\n",
    "            return full_table[:3]\n",
    "        else:\n",
    "            return \"No se encontró la tabla en la respuesta.\"\n",
    "    else:\n",
    "        return f\"La petición falló con el código de estado {response.status_code}.\"\n"
   ]
  },
  {
   "cell_type": "code",
   "execution_count": 19,
   "metadata": {},
   "outputs": [],
   "source": [
    "import pandas as pd \n",
    "xd = web_scraping_bnr()\n",
    "xd2 = pd.DataFrame(xd)\n",
    "xd2.columns = xd2.iloc[0]\n",
    "xd2 = xd2[1:].reset_index(drop=True)"
   ]
  },
  {
   "cell_type": "code",
   "execution_count": 22,
   "metadata": {},
   "outputs": [
    {
     "data": {
      "text/html": [
       "<div>\n",
       "<style scoped>\n",
       "    .dataframe tbody tr th:only-of-type {\n",
       "        vertical-align: middle;\n",
       "    }\n",
       "\n",
       "    .dataframe tbody tr th {\n",
       "        vertical-align: top;\n",
       "    }\n",
       "\n",
       "    .dataframe thead th {\n",
       "        text-align: right;\n",
       "    }\n",
       "</style>\n",
       "<table border=\"1\" class=\"dataframe\">\n",
       "  <thead>\n",
       "    <tr style=\"text-align: right;\">\n",
       "      <th></th>\n",
       "      <th>Month</th>\n",
       "      <th>EUR</th>\n",
       "      <th>USD</th>\n",
       "    </tr>\n",
       "  </thead>\n",
       "  <tbody>\n",
       "    <tr>\n",
       "      <th>1</th>\n",
       "      <td>10/2024</td>\n",
       "      <td>4.9748</td>\n",
       "      <td>4.5615</td>\n",
       "    </tr>\n",
       "  </tbody>\n",
       "</table>\n",
       "</div>"
      ],
      "text/plain": [
       "0    Month     EUR     USD\n",
       "1  10/2024  4.9748  4.5615"
      ]
     },
     "execution_count": 22,
     "metadata": {},
     "output_type": "execute_result"
    }
   ],
   "source": [
    "xd2[[\"Month\",\"EUR\",\"USD\"]][xd2[[\"Month\",\"EUR\",\"USD\"]][\"Month\"]==\"10/2024\"]"
   ]
  }
 ],
 "metadata": {
  "kernelspec": {
   "display_name": "usr",
   "language": "python",
   "name": "python3"
  },
  "language_info": {
   "codemirror_mode": {
    "name": "ipython",
    "version": 3
   },
   "file_extension": ".py",
   "mimetype": "text/x-python",
   "name": "python",
   "nbconvert_exporter": "python",
   "pygments_lexer": "ipython3",
   "version": "3.12.3"
  }
 },
 "nbformat": 4,
 "nbformat_minor": 2
}
